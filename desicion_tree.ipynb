{
  "nbformat": 4,
  "nbformat_minor": 0,
  "metadata": {
    "colab": {
      "provenance": []
    },
    "kernelspec": {
      "name": "python3",
      "display_name": "Python 3"
    },
    "language_info": {
      "name": "python"
    }
  },
  "cells": [
    {
      "cell_type": "code",
      "execution_count": 12,
      "metadata": {
        "colab": {
          "base_uri": "https://localhost:8080/"
        },
        "id": "l5ewLWEA4wK5",
        "outputId": "eb4718d4-4bed-412a-b975-3fc957dd5b66"
      },
      "outputs": [
        {
          "output_type": "stream",
          "name": "stdout",
          "text": [
            "    N   P   K  temperature   humidity        ph    rainfall label\n",
            "0  90  42  43    20.879744  82.002744  6.502985  202.935536  rice\n",
            "1  85  58  41    21.770462  80.319644  7.038096  226.655537  rice\n",
            "2  60  55  44    23.004459  82.320763  7.840207  263.964248  rice\n",
            "3  74  35  40    26.491096  80.158363  6.980401  242.864034  rice\n",
            "4  78  42  42    20.130175  81.604873  7.628473  262.717340  rice\n"
          ]
        }
      ],
      "source": [
        "import pandas as pd\n",
        "df = pd.read_csv(\"Crop_recommendation.csv\")\n",
        "print(df.head())"
      ]
    },
    {
      "cell_type": "code",
      "source": [
        "from sklearn.model_selection import train_test_split\n",
        "x = df[['N','P','K','temperature','humidity']]\n",
        "y = df['label']"
      ],
      "metadata": {
        "id": "thclCHby48rq"
      },
      "execution_count": 13,
      "outputs": []
    },
    {
      "cell_type": "code",
      "source": [
        "x_train , x_test , y_train , y_test = train_test_split(x,y,test_size=0.2)\n",
        "from sklearn.preprocessing import LabelEncoder\n",
        "label_encoder = LabelEncoder()\n",
        "y_train_encoded = label_encoder.fit_transform(y_train)\n",
        "y_test_encoded = label_encoder.fit_transform(y_test)\n",
        "\n"
      ],
      "metadata": {
        "id": "avMVBiu95Ala"
      },
      "execution_count": 14,
      "outputs": []
    },
    {
      "cell_type": "code",
      "source": [
        "from sklearn import tree\n",
        "model = tree.DecisionTreeClassifier()\n",
        "model.fit(x_train,y_train_encoded)"
      ],
      "metadata": {
        "colab": {
          "base_uri": "https://localhost:8080/",
          "height": 74
        },
        "id": "b4OYXJ-6Gv16",
        "outputId": "7e6c0a17-8887-4320-f2c4-0ee4e3e8e089"
      },
      "execution_count": 15,
      "outputs": [
        {
          "output_type": "execute_result",
          "data": {
            "text/plain": [
              "DecisionTreeClassifier()"
            ],
            "text/html": [
              "<style>#sk-container-id-3 {color: black;background-color: white;}#sk-container-id-3 pre{padding: 0;}#sk-container-id-3 div.sk-toggleable {background-color: white;}#sk-container-id-3 label.sk-toggleable__label {cursor: pointer;display: block;width: 100%;margin-bottom: 0;padding: 0.3em;box-sizing: border-box;text-align: center;}#sk-container-id-3 label.sk-toggleable__label-arrow:before {content: \"▸\";float: left;margin-right: 0.25em;color: #696969;}#sk-container-id-3 label.sk-toggleable__label-arrow:hover:before {color: black;}#sk-container-id-3 div.sk-estimator:hover label.sk-toggleable__label-arrow:before {color: black;}#sk-container-id-3 div.sk-toggleable__content {max-height: 0;max-width: 0;overflow: hidden;text-align: left;background-color: #f0f8ff;}#sk-container-id-3 div.sk-toggleable__content pre {margin: 0.2em;color: black;border-radius: 0.25em;background-color: #f0f8ff;}#sk-container-id-3 input.sk-toggleable__control:checked~div.sk-toggleable__content {max-height: 200px;max-width: 100%;overflow: auto;}#sk-container-id-3 input.sk-toggleable__control:checked~label.sk-toggleable__label-arrow:before {content: \"▾\";}#sk-container-id-3 div.sk-estimator input.sk-toggleable__control:checked~label.sk-toggleable__label {background-color: #d4ebff;}#sk-container-id-3 div.sk-label input.sk-toggleable__control:checked~label.sk-toggleable__label {background-color: #d4ebff;}#sk-container-id-3 input.sk-hidden--visually {border: 0;clip: rect(1px 1px 1px 1px);clip: rect(1px, 1px, 1px, 1px);height: 1px;margin: -1px;overflow: hidden;padding: 0;position: absolute;width: 1px;}#sk-container-id-3 div.sk-estimator {font-family: monospace;background-color: #f0f8ff;border: 1px dotted black;border-radius: 0.25em;box-sizing: border-box;margin-bottom: 0.5em;}#sk-container-id-3 div.sk-estimator:hover {background-color: #d4ebff;}#sk-container-id-3 div.sk-parallel-item::after {content: \"\";width: 100%;border-bottom: 1px solid gray;flex-grow: 1;}#sk-container-id-3 div.sk-label:hover label.sk-toggleable__label {background-color: #d4ebff;}#sk-container-id-3 div.sk-serial::before {content: \"\";position: absolute;border-left: 1px solid gray;box-sizing: border-box;top: 0;bottom: 0;left: 50%;z-index: 0;}#sk-container-id-3 div.sk-serial {display: flex;flex-direction: column;align-items: center;background-color: white;padding-right: 0.2em;padding-left: 0.2em;position: relative;}#sk-container-id-3 div.sk-item {position: relative;z-index: 1;}#sk-container-id-3 div.sk-parallel {display: flex;align-items: stretch;justify-content: center;background-color: white;position: relative;}#sk-container-id-3 div.sk-item::before, #sk-container-id-3 div.sk-parallel-item::before {content: \"\";position: absolute;border-left: 1px solid gray;box-sizing: border-box;top: 0;bottom: 0;left: 50%;z-index: -1;}#sk-container-id-3 div.sk-parallel-item {display: flex;flex-direction: column;z-index: 1;position: relative;background-color: white;}#sk-container-id-3 div.sk-parallel-item:first-child::after {align-self: flex-end;width: 50%;}#sk-container-id-3 div.sk-parallel-item:last-child::after {align-self: flex-start;width: 50%;}#sk-container-id-3 div.sk-parallel-item:only-child::after {width: 0;}#sk-container-id-3 div.sk-dashed-wrapped {border: 1px dashed gray;margin: 0 0.4em 0.5em 0.4em;box-sizing: border-box;padding-bottom: 0.4em;background-color: white;}#sk-container-id-3 div.sk-label label {font-family: monospace;font-weight: bold;display: inline-block;line-height: 1.2em;}#sk-container-id-3 div.sk-label-container {text-align: center;}#sk-container-id-3 div.sk-container {/* jupyter's `normalize.less` sets `[hidden] { display: none; }` but bootstrap.min.css set `[hidden] { display: none !important; }` so we also need the `!important` here to be able to override the default hidden behavior on the sphinx rendered scikit-learn.org. See: https://github.com/scikit-learn/scikit-learn/issues/21755 */display: inline-block !important;position: relative;}#sk-container-id-3 div.sk-text-repr-fallback {display: none;}</style><div id=\"sk-container-id-3\" class=\"sk-top-container\"><div class=\"sk-text-repr-fallback\"><pre>DecisionTreeClassifier()</pre><b>In a Jupyter environment, please rerun this cell to show the HTML representation or trust the notebook. <br />On GitHub, the HTML representation is unable to render, please try loading this page with nbviewer.org.</b></div><div class=\"sk-container\" hidden><div class=\"sk-item\"><div class=\"sk-estimator sk-toggleable\"><input class=\"sk-toggleable__control sk-hidden--visually\" id=\"sk-estimator-id-3\" type=\"checkbox\" checked><label for=\"sk-estimator-id-3\" class=\"sk-toggleable__label sk-toggleable__label-arrow\">DecisionTreeClassifier</label><div class=\"sk-toggleable__content\"><pre>DecisionTreeClassifier()</pre></div></div></div></div></div>"
            ]
          },
          "metadata": {},
          "execution_count": 15
        }
      ]
    },
    {
      "cell_type": "code",
      "source": [
        "model.predict(x_test)"
      ],
      "metadata": {
        "colab": {
          "base_uri": "https://localhost:8080/"
        },
        "id": "_CSVKMKHG-fa",
        "outputId": "06e11ecd-c65a-4456-9dd5-bb6581b95419"
      },
      "execution_count": 16,
      "outputs": [
        {
          "output_type": "execute_result",
          "data": {
            "text/plain": [
              "array([ 1, 11,  6, 17,  8, 19, 10,  1, 15,  0, 15, 16, 18, 12, 11, 10,  7,\n",
              "        2,  5, 21, 20,  3, 16, 12, 14, 19, 17, 20,  9, 12, 18, 18,  1,  5,\n",
              "       14, 17, 18, 19, 16, 11,  5,  4, 15, 18,  4,  2,  4,  8,  9,  2, 20,\n",
              "        0,  5, 16, 21,  4, 19,  8, 16, 16, 12, 13, 18,  7,  9,  3,  2, 18,\n",
              "       16,  7,  9,  2,  7,  8, 12,  7,  7,  7,  4, 11, 13, 16, 18, 10, 20,\n",
              "       12,  8, 11, 17,  4, 16,  2,  9,  1, 20, 14, 12,  5, 20, 18, 15, 12,\n",
              "        5, 11,  8, 20,  0,  0,  2, 19,  2, 10, 10, 12,  0, 18,  9, 15,  5,\n",
              "        5,  7,  8,  8,  9,  3,  5,  1,  2, 18, 12, 12, 18, 10,  6,  8, 15,\n",
              "        4, 21,  7,  8,  3, 16, 10, 13, 21,  4, 20,  8,  1, 15,  5, 14, 13,\n",
              "        5, 13,  2, 15, 15, 15,  6, 10, 11, 11,  7, 10, 18, 18, 18, 17, 17,\n",
              "        7, 14, 11,  3,  2, 11, 19, 11,  6, 20, 20, 14,  3, 17,  0, 15, 10,\n",
              "       19, 14,  2,  9,  1,  0, 16, 18, 13, 16, 12,  9, 15,  0,  8, 17, 10,\n",
              "        1, 18,  1,  0, 14,  1,  7, 21,  8, 21, 19,  3,  1,  8, 16, 10,  6,\n",
              "        2, 18, 12,  0,  8, 18,  1,  2,  0, 11,  8, 18, 14,  5,  7, 13, 15,\n",
              "        2,  3,  9, 17, 21, 13,  9,  6, 16,  6, 10, 19,  3,  6, 10,  1, 10,\n",
              "        0, 12, 18,  3, 12, 14, 17, 17,  5,  7,  4,  4, 11, 12, 15, 12,  7,\n",
              "       19, 13,  8,  8, 21, 21,  2, 19, 13, 13,  6, 19,  2, 20, 12,  8, 12,\n",
              "        5,  4,  8,  1,  5, 20,  4, 16, 10,  2,  0, 21, 16, 10, 21, 13,  6,\n",
              "        1,  9,  5,  7,  6, 11,  9,  8, 14, 20, 19,  7,  5,  2,  3,  6, 10,\n",
              "       13,  7, 13,  9, 21,  7, 16, 10,  7,  5,  9, 17,  4, 12, 19,  7, 13,\n",
              "       12, 20,  6, 17, 17,  7,  9,  6,  7, 11, 19,  8, 17, 11, 14, 12, 11,\n",
              "        0, 12,  7, 20,  3, 11, 21, 12,  0,  9, 13,  2,  5, 15, 19,  6,  4,\n",
              "       17,  2,  0,  5,  3,  0, 17,  4, 17,  6,  3, 11,  9, 17,  5,  9, 20,\n",
              "       16, 13, 14, 18, 15, 21, 19,  5, 14,  9,  8, 17,  4, 14,  8, 12, 20,\n",
              "       14,  8,  6,  0, 21,  1,  5, 16, 11, 19, 19, 17,  0, 18,  8,  1, 12,\n",
              "        7, 15,  5,  3, 10,  5,  1, 20,  9, 15,  5, 18,  0, 18,  4])"
            ]
          },
          "metadata": {},
          "execution_count": 16
        }
      ]
    },
    {
      "cell_type": "code",
      "source": [
        "model.score(x_test,y_test_encoded)"
      ],
      "metadata": {
        "colab": {
          "base_uri": "https://localhost:8080/"
        },
        "id": "SR-npUR8HFVM",
        "outputId": "79d8569a-9801-49be-853d-805ec47d2ff0"
      },
      "execution_count": 17,
      "outputs": [
        {
          "output_type": "execute_result",
          "data": {
            "text/plain": [
              "0.9454545454545454"
            ]
          },
          "metadata": {},
          "execution_count": 17
        }
      ]
    }
  ]
}