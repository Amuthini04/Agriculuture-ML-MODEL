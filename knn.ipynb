{
  "cells": [
    {
      "cell_type": "code",
      "execution_count": 3,
      "metadata": {
        "colab": {
          "base_uri": "https://localhost:8080/"
        },
        "id": "l5ewLWEA4wK5",
        "outputId": "254f372e-d42f-4723-9640-92a38dde8646"
      },
      "outputs": [
        {
          "output_type": "stream",
          "name": "stdout",
          "text": [
            "    N   P   K  temperature   humidity label\n",
            "0  90  42  43    20.879744  82.002744  rice\n",
            "1  85  58  41    21.770462  80.319644  rice\n",
            "2  60  55  44    23.004459  82.320763  rice\n",
            "3  74  35  40    26.491096  80.158363  rice\n",
            "4  78  42  42    20.130175  81.604873  rice\n"
          ]
        }
      ],
      "source": [
        "import pandas as pd\n",
        "df = pd.read_csv(\"Crop_recommendation.csv\")\n",
        "df.drop(columns=['rainfall','ph'], inplace=True)\n",
        "print(df.head())"
      ]
    },
    {
      "cell_type": "code",
      "execution_count": 4,
      "metadata": {
        "id": "thclCHby48rq"
      },
      "outputs": [],
      "source": [
        "from sklearn.model_selection import train_test_split\n",
        "x = df[['N','P','K','temperature','humidity']]\n",
        "y = df['label']"
      ]
    },
    {
      "cell_type": "code",
      "execution_count": 5,
      "metadata": {
        "id": "avMVBiu95Ala"
      },
      "outputs": [],
      "source": [
        "x_train , x_test , y_train , y_test = train_test_split(x,y,test_size=0.2)\n",
        "from sklearn.preprocessing import LabelEncoder\n",
        "label_encoder = LabelEncoder()\n",
        "y_train_encoded = label_encoder.fit_transform(y_train)\n",
        "y_test_encoded = label_encoder.fit_transform(y_test)\n"
      ]
    },
    {
      "cell_type": "code",
      "source": [
        "from sklearn.neighbors import KNeighborsClassifier\n",
        "knn = KNeighborsClassifier(n_neighbors=3)\n",
        "knn.fit(x_train,y_train)"
      ],
      "metadata": {
        "colab": {
          "base_uri": "https://localhost:8080/",
          "height": 74
        },
        "id": "qIen5LoJxKbk",
        "outputId": "ca4607ea-3b85-4f35-8c41-63878e655e4f"
      },
      "execution_count": 11,
      "outputs": [
        {
          "output_type": "execute_result",
          "data": {
            "text/plain": [
              "KNeighborsClassifier(n_neighbors=3)"
            ],
            "text/html": [
              "<style>#sk-container-id-2 {color: black;background-color: white;}#sk-container-id-2 pre{padding: 0;}#sk-container-id-2 div.sk-toggleable {background-color: white;}#sk-container-id-2 label.sk-toggleable__label {cursor: pointer;display: block;width: 100%;margin-bottom: 0;padding: 0.3em;box-sizing: border-box;text-align: center;}#sk-container-id-2 label.sk-toggleable__label-arrow:before {content: \"▸\";float: left;margin-right: 0.25em;color: #696969;}#sk-container-id-2 label.sk-toggleable__label-arrow:hover:before {color: black;}#sk-container-id-2 div.sk-estimator:hover label.sk-toggleable__label-arrow:before {color: black;}#sk-container-id-2 div.sk-toggleable__content {max-height: 0;max-width: 0;overflow: hidden;text-align: left;background-color: #f0f8ff;}#sk-container-id-2 div.sk-toggleable__content pre {margin: 0.2em;color: black;border-radius: 0.25em;background-color: #f0f8ff;}#sk-container-id-2 input.sk-toggleable__control:checked~div.sk-toggleable__content {max-height: 200px;max-width: 100%;overflow: auto;}#sk-container-id-2 input.sk-toggleable__control:checked~label.sk-toggleable__label-arrow:before {content: \"▾\";}#sk-container-id-2 div.sk-estimator input.sk-toggleable__control:checked~label.sk-toggleable__label {background-color: #d4ebff;}#sk-container-id-2 div.sk-label input.sk-toggleable__control:checked~label.sk-toggleable__label {background-color: #d4ebff;}#sk-container-id-2 input.sk-hidden--visually {border: 0;clip: rect(1px 1px 1px 1px);clip: rect(1px, 1px, 1px, 1px);height: 1px;margin: -1px;overflow: hidden;padding: 0;position: absolute;width: 1px;}#sk-container-id-2 div.sk-estimator {font-family: monospace;background-color: #f0f8ff;border: 1px dotted black;border-radius: 0.25em;box-sizing: border-box;margin-bottom: 0.5em;}#sk-container-id-2 div.sk-estimator:hover {background-color: #d4ebff;}#sk-container-id-2 div.sk-parallel-item::after {content: \"\";width: 100%;border-bottom: 1px solid gray;flex-grow: 1;}#sk-container-id-2 div.sk-label:hover label.sk-toggleable__label {background-color: #d4ebff;}#sk-container-id-2 div.sk-serial::before {content: \"\";position: absolute;border-left: 1px solid gray;box-sizing: border-box;top: 0;bottom: 0;left: 50%;z-index: 0;}#sk-container-id-2 div.sk-serial {display: flex;flex-direction: column;align-items: center;background-color: white;padding-right: 0.2em;padding-left: 0.2em;position: relative;}#sk-container-id-2 div.sk-item {position: relative;z-index: 1;}#sk-container-id-2 div.sk-parallel {display: flex;align-items: stretch;justify-content: center;background-color: white;position: relative;}#sk-container-id-2 div.sk-item::before, #sk-container-id-2 div.sk-parallel-item::before {content: \"\";position: absolute;border-left: 1px solid gray;box-sizing: border-box;top: 0;bottom: 0;left: 50%;z-index: -1;}#sk-container-id-2 div.sk-parallel-item {display: flex;flex-direction: column;z-index: 1;position: relative;background-color: white;}#sk-container-id-2 div.sk-parallel-item:first-child::after {align-self: flex-end;width: 50%;}#sk-container-id-2 div.sk-parallel-item:last-child::after {align-self: flex-start;width: 50%;}#sk-container-id-2 div.sk-parallel-item:only-child::after {width: 0;}#sk-container-id-2 div.sk-dashed-wrapped {border: 1px dashed gray;margin: 0 0.4em 0.5em 0.4em;box-sizing: border-box;padding-bottom: 0.4em;background-color: white;}#sk-container-id-2 div.sk-label label {font-family: monospace;font-weight: bold;display: inline-block;line-height: 1.2em;}#sk-container-id-2 div.sk-label-container {text-align: center;}#sk-container-id-2 div.sk-container {/* jupyter's `normalize.less` sets `[hidden] { display: none; }` but bootstrap.min.css set `[hidden] { display: none !important; }` so we also need the `!important` here to be able to override the default hidden behavior on the sphinx rendered scikit-learn.org. See: https://github.com/scikit-learn/scikit-learn/issues/21755 */display: inline-block !important;position: relative;}#sk-container-id-2 div.sk-text-repr-fallback {display: none;}</style><div id=\"sk-container-id-2\" class=\"sk-top-container\"><div class=\"sk-text-repr-fallback\"><pre>KNeighborsClassifier(n_neighbors=3)</pre><b>In a Jupyter environment, please rerun this cell to show the HTML representation or trust the notebook. <br />On GitHub, the HTML representation is unable to render, please try loading this page with nbviewer.org.</b></div><div class=\"sk-container\" hidden><div class=\"sk-item\"><div class=\"sk-estimator sk-toggleable\"><input class=\"sk-toggleable__control sk-hidden--visually\" id=\"sk-estimator-id-2\" type=\"checkbox\" checked><label for=\"sk-estimator-id-2\" class=\"sk-toggleable__label sk-toggleable__label-arrow\">KNeighborsClassifier</label><div class=\"sk-toggleable__content\"><pre>KNeighborsClassifier(n_neighbors=3)</pre></div></div></div></div></div>"
            ]
          },
          "metadata": {},
          "execution_count": 11
        }
      ]
    },
    {
      "cell_type": "code",
      "source": [
        "knn.predict(x_test)"
      ],
      "metadata": {
        "colab": {
          "base_uri": "https://localhost:8080/"
        },
        "id": "GBu6_8jqxhTo",
        "outputId": "30b1858c-aefa-4cca-d8be-293807ca7876"
      },
      "execution_count": 12,
      "outputs": [
        {
          "output_type": "execute_result",
          "data": {
            "text/plain": [
              "array(['pigeonpeas', 'muskmelon', 'grapes', 'watermelon', 'apple',\n",
              "       'muskmelon', 'rice', 'pigeonpeas', 'chickpea', 'apple',\n",
              "       'blackgram', 'apple', 'pomegranate', 'mungbean', 'kidneybeans',\n",
              "       'chickpea', 'rice', 'jute', 'grapes', 'cotton', 'coconut', 'rice',\n",
              "       'muskmelon', 'kidneybeans', 'banana', 'orange', 'coconut',\n",
              "       'coconut', 'lentil', 'blackgram', 'apple', 'coconut', 'blackgram',\n",
              "       'lentil', 'coffee', 'grapes', 'rice', 'apple', 'watermelon',\n",
              "       'papaya', 'jute', 'rice', 'jute', 'watermelon', 'coffee', 'coffee',\n",
              "       'apple', 'apple', 'rice', 'muskmelon', 'pigeonpeas', 'watermelon',\n",
              "       'coffee', 'apple', 'jute', 'watermelon', 'chickpea', 'coffee',\n",
              "       'coffee', 'papaya', 'lentil', 'muskmelon', 'kidneybeans', 'maize',\n",
              "       'coffee', 'coconut', 'apple', 'coconut', 'coffee', 'grapes',\n",
              "       'lentil', 'mothbeans', 'chickpea', 'chickpea', 'orange',\n",
              "       'mothbeans', 'blackgram', 'apple', 'banana', 'lentil', 'rice',\n",
              "       'pigeonpeas', 'mothbeans', 'watermelon', 'pomegranate', 'banana',\n",
              "       'banana', 'chickpea', 'chickpea', 'watermelon', 'grapes', 'mango',\n",
              "       'mungbean', 'maize', 'grapes', 'cotton', 'mothbeans', 'maize',\n",
              "       'maize', 'watermelon', 'rice', 'cotton', 'papaya', 'lentil',\n",
              "       'chickpea', 'mango', 'pomegranate', 'lentil', 'orange', 'grapes',\n",
              "       'watermelon', 'chickpea', 'mungbean', 'mungbean', 'maize',\n",
              "       'kidneybeans', 'jute', 'orange', 'lentil', 'kidneybeans', 'coffee',\n",
              "       'watermelon', 'mothbeans', 'pomegranate', 'blackgram', 'jute',\n",
              "       'chickpea', 'mungbean', 'mothbeans', 'mungbean', 'papaya',\n",
              "       'banana', 'orange', 'lentil', 'pomegranate', 'orange', 'coconut',\n",
              "       'lentil', 'coffee', 'mango', 'banana', 'watermelon', 'mothbeans',\n",
              "       'apple', 'watermelon', 'mungbean', 'lentil', 'mothbeans', 'coffee',\n",
              "       'blackgram', 'apple', 'coconut', 'lentil', 'muskmelon',\n",
              "       'pigeonpeas', 'mungbean', 'maize', 'jute', 'cotton', 'orange',\n",
              "       'blackgram', 'mothbeans', 'pigeonpeas', 'mango', 'cotton',\n",
              "       'banana', 'mungbean', 'cotton', 'pomegranate', 'mungbean', 'rice',\n",
              "       'mothbeans', 'apple', 'watermelon', 'apple', 'maize', 'lentil',\n",
              "       'grapes', 'rice', 'orange', 'kidneybeans', 'blackgram', 'maize',\n",
              "       'grapes', 'rice', 'grapes', 'orange', 'maize', 'orange',\n",
              "       'chickpea', 'coffee', 'muskmelon', 'pomegranate', 'coffee',\n",
              "       'apple', 'kidneybeans', 'watermelon', 'lentil', 'pomegranate',\n",
              "       'pigeonpeas', 'watermelon', 'papaya', 'blackgram', 'watermelon',\n",
              "       'coffee', 'watermelon', 'apple', 'blackgram', 'mungbean',\n",
              "       'mungbean', 'lentil', 'banana', 'mothbeans', 'rice', 'chickpea',\n",
              "       'blackgram', 'mango', 'maize', 'chickpea', 'chickpea', 'mothbeans',\n",
              "       'grapes', 'blackgram', 'cotton', 'watermelon', 'apple',\n",
              "       'muskmelon', 'mango', 'mango', 'orange', 'apple', 'rice',\n",
              "       'coconut', 'chickpea', 'pigeonpeas', 'blackgram', 'jute',\n",
              "       'blackgram', 'muskmelon', 'jute', 'chickpea', 'watermelon',\n",
              "       'muskmelon', 'kidneybeans', 'coffee', 'mungbean', 'muskmelon',\n",
              "       'blackgram', 'apple', 'mango', 'grapes', 'coconut', 'pomegranate',\n",
              "       'cotton', 'papaya', 'maize', 'muskmelon', 'papaya', 'watermelon',\n",
              "       'watermelon', 'apple', 'banana', 'mungbean', 'mango', 'coffee',\n",
              "       'coconut', 'banana', 'mungbean', 'blackgram', 'kidneybeans',\n",
              "       'papaya', 'pomegranate', 'rice', 'mothbeans', 'muskmelon',\n",
              "       'papaya', 'mungbean', 'papaya', 'chickpea', 'lentil', 'maize',\n",
              "       'jute', 'muskmelon', 'orange', 'pomegranate', 'kidneybeans',\n",
              "       'blackgram', 'kidneybeans', 'coffee', 'orange', 'rice', 'maize',\n",
              "       'papaya', 'maize', 'blackgram', 'papaya', 'watermelon', 'jute',\n",
              "       'watermelon', 'blackgram', 'muskmelon', 'pomegranate', 'blackgram',\n",
              "       'maize', 'coconut', 'chickpea', 'pomegranate', 'grapes', 'cotton',\n",
              "       'maize', 'coconut', 'coconut', 'rice', 'papaya', 'maize',\n",
              "       'pigeonpeas', 'lentil', 'maize', 'mungbean', 'blackgram',\n",
              "       'blackgram', 'lentil', 'coconut', 'papaya', 'jute', 'mothbeans',\n",
              "       'blackgram', 'coffee', 'banana', 'maize', 'maize', 'mango',\n",
              "       'papaya', 'kidneybeans', 'cotton', 'maize', 'papaya', 'cotton',\n",
              "       'grapes', 'cotton', 'kidneybeans', 'kidneybeans', 'rice',\n",
              "       'watermelon', 'coconut', 'grapes', 'chickpea', 'maize', 'cotton',\n",
              "       'apple', 'coconut', 'apple', 'lentil', 'cotton', 'rice', 'mango',\n",
              "       'mango', 'banana', 'cotton', 'pomegranate', 'orange', 'banana',\n",
              "       'papaya', 'mothbeans', 'banana', 'maize', 'lentil', 'blackgram',\n",
              "       'kidneybeans', 'blackgram', 'mothbeans', 'grapes', 'mothbeans',\n",
              "       'orange', 'rice', 'grapes', 'muskmelon', 'mango', 'mungbean',\n",
              "       'pomegranate', 'coconut', 'maize', 'mothbeans', 'apple',\n",
              "       'pomegranate', 'blackgram', 'mothbeans', 'banana', 'rice',\n",
              "       'mothbeans', 'pomegranate', 'muskmelon', 'coconut', 'chickpea',\n",
              "       'jute', 'grapes', 'jute', 'rice', 'banana', 'banana', 'banana',\n",
              "       'cotton', 'banana', 'banana', 'pigeonpeas', 'jute', 'watermelon',\n",
              "       'muskmelon', 'orange', 'mungbean', 'lentil', 'apple', 'maize',\n",
              "       'lentil', 'banana', 'mango', 'kidneybeans', 'banana', 'rice',\n",
              "       'coconut', 'chickpea', 'banana', 'banana', 'banana', 'maize',\n",
              "       'maize', 'grapes', 'mungbean', 'grapes', 'chickpea', 'coffee',\n",
              "       'coconut', 'maize', 'mango', 'lentil', 'maize', 'rice', 'jute',\n",
              "       'jute', 'banana'], dtype=object)"
            ]
          },
          "metadata": {},
          "execution_count": 12
        }
      ]
    },
    {
      "cell_type": "code",
      "source": [
        "knn.score(x_test,y_test)"
      ],
      "metadata": {
        "colab": {
          "base_uri": "https://localhost:8080/"
        },
        "id": "g2sYW6Yoxljx",
        "outputId": "8bc73944-f3a6-4e28-8be6-f83d1179be45"
      },
      "execution_count": 14,
      "outputs": [
        {
          "output_type": "execute_result",
          "data": {
            "text/plain": [
              "0.925"
            ]
          },
          "metadata": {},
          "execution_count": 14
        }
      ]
    }
  ],
  "metadata": {
    "colab": {
      "provenance": []
    },
    "kernelspec": {
      "display_name": "Python 3",
      "name": "python3"
    },
    "language_info": {
      "name": "python"
    }
  },
  "nbformat": 4,
  "nbformat_minor": 0
}