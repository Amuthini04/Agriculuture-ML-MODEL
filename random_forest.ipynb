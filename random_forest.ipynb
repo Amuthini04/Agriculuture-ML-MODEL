{
  "nbformat": 4,
  "nbformat_minor": 0,
  "metadata": {
    "colab": {
      "provenance": []
    },
    "kernelspec": {
      "name": "python3",
      "display_name": "Python 3"
    },
    "language_info": {
      "name": "python"
    }
  },
  "cells": [
    {
      "cell_type": "code",
      "execution_count": 2,
      "metadata": {
        "colab": {
          "base_uri": "https://localhost:8080/"
        },
        "id": "l5ewLWEA4wK5",
        "outputId": "3a904385-5d84-400d-f5e5-ec467d35bd44"
      },
      "outputs": [
        {
          "output_type": "stream",
          "name": "stdout",
          "text": [
            "    N   P   K  temperature   humidity label\n",
            "0  90  42  43    20.879744  82.002744  rice\n",
            "1  85  58  41    21.770462  80.319644  rice\n",
            "2  60  55  44    23.004459  82.320763  rice\n",
            "3  74  35  40    26.491096  80.158363  rice\n",
            "4  78  42  42    20.130175  81.604873  rice\n"
          ]
        }
      ],
      "source": [
        "import pandas as pd\n",
        "df = pd.read_csv(\"Crop_recommendation.csv\")\n",
        "df.drop(columns=['rainfall','ph'], inplace=True)\n",
        "print(df.head())"
      ]
    },
    {
      "cell_type": "code",
      "source": [
        "from sklearn.model_selection import train_test_split\n",
        "x = df[['N','P','K','temperature','humidity']]\n",
        "y = df['label']"
      ],
      "metadata": {
        "id": "thclCHby48rq"
      },
      "execution_count": 3,
      "outputs": []
    },
    {
      "cell_type": "code",
      "source": [
        "x_train , x_test , y_train , y_test = train_test_split(x,y,test_size=0.2)\n",
        "from sklearn.preprocessing import LabelEncoder\n",
        "label_encoder = LabelEncoder()\n",
        "y_train_encoded = label_encoder.fit_transform(y_train)\n",
        "y_test_encoded = label_encoder.fit_transform(y_test)\n"
      ],
      "metadata": {
        "id": "avMVBiu95Ala"
      },
      "execution_count": 4,
      "outputs": []
    },
    {
      "cell_type": "code",
      "source": [
        "from sklearn.ensemble import RandomForestClassifier\n",
        "model = RandomForestClassifier(n_estimators=30)\n",
        "model.fit(x_train,y_train_encoded)"
      ],
      "metadata": {
        "colab": {
          "base_uri": "https://localhost:8080/",
          "height": 74
        },
        "id": "b4OYXJ-6Gv16",
        "outputId": "a17cbd32-94d6-431a-bc93-47fee9f5c79a"
      },
      "execution_count": 25,
      "outputs": [
        {
          "output_type": "execute_result",
          "data": {
            "text/plain": [
              "RandomForestClassifier(n_estimators=30)"
            ],
            "text/html": [
              "<style>#sk-container-id-9 {color: black;background-color: white;}#sk-container-id-9 pre{padding: 0;}#sk-container-id-9 div.sk-toggleable {background-color: white;}#sk-container-id-9 label.sk-toggleable__label {cursor: pointer;display: block;width: 100%;margin-bottom: 0;padding: 0.3em;box-sizing: border-box;text-align: center;}#sk-container-id-9 label.sk-toggleable__label-arrow:before {content: \"▸\";float: left;margin-right: 0.25em;color: #696969;}#sk-container-id-9 label.sk-toggleable__label-arrow:hover:before {color: black;}#sk-container-id-9 div.sk-estimator:hover label.sk-toggleable__label-arrow:before {color: black;}#sk-container-id-9 div.sk-toggleable__content {max-height: 0;max-width: 0;overflow: hidden;text-align: left;background-color: #f0f8ff;}#sk-container-id-9 div.sk-toggleable__content pre {margin: 0.2em;color: black;border-radius: 0.25em;background-color: #f0f8ff;}#sk-container-id-9 input.sk-toggleable__control:checked~div.sk-toggleable__content {max-height: 200px;max-width: 100%;overflow: auto;}#sk-container-id-9 input.sk-toggleable__control:checked~label.sk-toggleable__label-arrow:before {content: \"▾\";}#sk-container-id-9 div.sk-estimator input.sk-toggleable__control:checked~label.sk-toggleable__label {background-color: #d4ebff;}#sk-container-id-9 div.sk-label input.sk-toggleable__control:checked~label.sk-toggleable__label {background-color: #d4ebff;}#sk-container-id-9 input.sk-hidden--visually {border: 0;clip: rect(1px 1px 1px 1px);clip: rect(1px, 1px, 1px, 1px);height: 1px;margin: -1px;overflow: hidden;padding: 0;position: absolute;width: 1px;}#sk-container-id-9 div.sk-estimator {font-family: monospace;background-color: #f0f8ff;border: 1px dotted black;border-radius: 0.25em;box-sizing: border-box;margin-bottom: 0.5em;}#sk-container-id-9 div.sk-estimator:hover {background-color: #d4ebff;}#sk-container-id-9 div.sk-parallel-item::after {content: \"\";width: 100%;border-bottom: 1px solid gray;flex-grow: 1;}#sk-container-id-9 div.sk-label:hover label.sk-toggleable__label {background-color: #d4ebff;}#sk-container-id-9 div.sk-serial::before {content: \"\";position: absolute;border-left: 1px solid gray;box-sizing: border-box;top: 0;bottom: 0;left: 50%;z-index: 0;}#sk-container-id-9 div.sk-serial {display: flex;flex-direction: column;align-items: center;background-color: white;padding-right: 0.2em;padding-left: 0.2em;position: relative;}#sk-container-id-9 div.sk-item {position: relative;z-index: 1;}#sk-container-id-9 div.sk-parallel {display: flex;align-items: stretch;justify-content: center;background-color: white;position: relative;}#sk-container-id-9 div.sk-item::before, #sk-container-id-9 div.sk-parallel-item::before {content: \"\";position: absolute;border-left: 1px solid gray;box-sizing: border-box;top: 0;bottom: 0;left: 50%;z-index: -1;}#sk-container-id-9 div.sk-parallel-item {display: flex;flex-direction: column;z-index: 1;position: relative;background-color: white;}#sk-container-id-9 div.sk-parallel-item:first-child::after {align-self: flex-end;width: 50%;}#sk-container-id-9 div.sk-parallel-item:last-child::after {align-self: flex-start;width: 50%;}#sk-container-id-9 div.sk-parallel-item:only-child::after {width: 0;}#sk-container-id-9 div.sk-dashed-wrapped {border: 1px dashed gray;margin: 0 0.4em 0.5em 0.4em;box-sizing: border-box;padding-bottom: 0.4em;background-color: white;}#sk-container-id-9 div.sk-label label {font-family: monospace;font-weight: bold;display: inline-block;line-height: 1.2em;}#sk-container-id-9 div.sk-label-container {text-align: center;}#sk-container-id-9 div.sk-container {/* jupyter's `normalize.less` sets `[hidden] { display: none; }` but bootstrap.min.css set `[hidden] { display: none !important; }` so we also need the `!important` here to be able to override the default hidden behavior on the sphinx rendered scikit-learn.org. See: https://github.com/scikit-learn/scikit-learn/issues/21755 */display: inline-block !important;position: relative;}#sk-container-id-9 div.sk-text-repr-fallback {display: none;}</style><div id=\"sk-container-id-9\" class=\"sk-top-container\"><div class=\"sk-text-repr-fallback\"><pre>RandomForestClassifier(n_estimators=30)</pre><b>In a Jupyter environment, please rerun this cell to show the HTML representation or trust the notebook. <br />On GitHub, the HTML representation is unable to render, please try loading this page with nbviewer.org.</b></div><div class=\"sk-container\" hidden><div class=\"sk-item\"><div class=\"sk-estimator sk-toggleable\"><input class=\"sk-toggleable__control sk-hidden--visually\" id=\"sk-estimator-id-9\" type=\"checkbox\" checked><label for=\"sk-estimator-id-9\" class=\"sk-toggleable__label sk-toggleable__label-arrow\">RandomForestClassifier</label><div class=\"sk-toggleable__content\"><pre>RandomForestClassifier(n_estimators=30)</pre></div></div></div></div></div>"
            ]
          },
          "metadata": {},
          "execution_count": 25
        }
      ]
    },
    {
      "cell_type": "code",
      "source": [
        "model.predict(x_test)"
      ],
      "metadata": {
        "colab": {
          "base_uri": "https://localhost:8080/"
        },
        "id": "RlgttE8ay9fo",
        "outputId": "21660ddb-0df8-41f2-aba5-89ece0d865ce"
      },
      "execution_count": 13,
      "outputs": [
        {
          "output_type": "execute_result",
          "data": {
            "text/plain": [
              "array([ 0,  2,  0, 13, 20,  5, 15,  8, 20,  7, 20, 15,  6,  6, 12, 14, 18,\n",
              "       11, 11,  1, 14, 11, 12, 18,  4,  6,  4,  1,  5, 18, 10,  3, 12,  0,\n",
              "       10, 14, 19,  0, 16, 12, 13, 16, 21, 11, 20,  2,  4,  2, 20,  5, 11,\n",
              "        3, 18, 19,  7,  7, 17, 14, 20, 16,  6,  2,  8, 11, 15, 20,  8,  2,\n",
              "       19, 21, 13, 21, 19, 18, 10, 15,  1,  4, 20,  3, 15, 19, 20,  4,  4,\n",
              "       10, 21, 17,  0,  9,  3, 11, 17, 10,  3,  2,  2,  3,  9, 19,  3,  6,\n",
              "       12,  5, 14, 15,  5,  0, 14, 16,  2,  0,  5, 18,  5, 15, 16, 17, 13,\n",
              "        0,  0,  1,  0,  3, 19,  7, 16,  5,  7,  6,  4, 10,  8,  5, 15,  7,\n",
              "       10,  0, 13, 13, 21,  4,  7, 18, 19,  4,  5, 14, 17, 11,  6, 14, 13,\n",
              "       20,  0, 20, 10,  2,  8, 19, 10, 18,  8,  1,  2, 12,  1, 21,  0, 13,\n",
              "        8,  1,  1, 15,  2,  2, 19, 10, 19,  9,  1, 15,  6,  6, 19, 20, 13,\n",
              "       16,  1, 17, 12, 19, 15, 10,  7, 11, 11,  2, 19, 10, 14, 13, 10,  0,\n",
              "        6,  3,  0,  4,  8,  2, 21, 16, 16, 18, 18,  8, 13,  1, 11,  2, 21,\n",
              "       14,  8,  9,  3, 21, 14,  2, 19,  0,  1,  0, 13,  9, 19, 19, 12, 13,\n",
              "       10,  9,  0,  8,  7, 20, 14,  6,  4,  8, 19, 20,  3,  4,  6, 12,  7,\n",
              "        4, 11,  3,  2,  3,  5,  3, 12,  0, 17, 17, 13, 10, 16, 11, 10, 10,\n",
              "        1, 13,  6, 20, 11, 21,  2,  1,  1,  4, 19, 19, 18,  6,  5, 11, 18,\n",
              "       12, 21, 21, 13, 17, 14,  9,  5, 17,  3,  4, 19, 13,  0, 16,  5, 14,\n",
              "       18, 10, 15, 13, 19, 13,  6, 15, 21,  2, 20, 10, 20, 12, 13,  0,  1,\n",
              "       19,  0, 11,  1,  2, 10,  7,  5,  4, 12,  4, 15,  5, 14,  2,  4, 11,\n",
              "        8,  4, 17, 10, 20, 12, 10,  4, 19,  6,  4, 21, 20, 18, 10,  1, 18,\n",
              "       17, 16,  1, 11, 16,  2, 14, 11, 14,  4,  7, 19, 20, 20, 19,  8, 10,\n",
              "       21, 17, 17, 15,  9, 19, 19, 16, 20,  8,  3,  2, 13,  9, 19, 10, 12,\n",
              "        8, 17,  8,  9, 12,  1, 15, 17, 13, 19,  6, 12,  2,  1, 12,  8, 15,\n",
              "       13,  4,  1,  6, 12, 21,  7, 14,  6, 15, 21,  4, 16, 21,  0, 17, 10,\n",
              "       20,  2, 10,  8,  9, 15,  5, 11,  6,  6,  8,  6,  9, 16, 13])"
            ]
          },
          "metadata": {},
          "execution_count": 13
        }
      ]
    },
    {
      "cell_type": "code",
      "source": [
        "model.score(x_test,y_test_encoded)"
      ],
      "metadata": {
        "colab": {
          "base_uri": "https://localhost:8080/"
        },
        "id": "mOZ7M8RkzFVF",
        "outputId": "7cc3c6a6-6dbb-4370-9a2e-82a77cc495b1"
      },
      "execution_count": 26,
      "outputs": [
        {
          "output_type": "execute_result",
          "data": {
            "text/plain": [
              "0.95"
            ]
          },
          "metadata": {},
          "execution_count": 26
        }
      ]
    }
  ]
}