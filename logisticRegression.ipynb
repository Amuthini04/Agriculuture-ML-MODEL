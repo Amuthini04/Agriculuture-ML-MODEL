{
  "nbformat": 4,
  "nbformat_minor": 0,
  "metadata": {
    "colab": {
      "provenance": []
    },
    "kernelspec": {
      "name": "python3",
      "display_name": "Python 3"
    },
    "language_info": {
      "name": "python"
    }
  },
  "cells": [
    {
      "cell_type": "code",
      "execution_count": 1,
      "metadata": {
        "colab": {
          "base_uri": "https://localhost:8080/"
        },
        "id": "l5ewLWEA4wK5",
        "outputId": "413384dd-867a-449f-a501-e65315946489"
      },
      "outputs": [
        {
          "output_type": "stream",
          "name": "stdout",
          "text": [
            "    N   P   K  temperature   humidity        ph    rainfall label\n",
            "0  90  42  43    20.879744  82.002744  6.502985  202.935536  rice\n",
            "1  85  58  41    21.770462  80.319644  7.038096  226.655537  rice\n",
            "2  60  55  44    23.004459  82.320763  7.840207  263.964248  rice\n",
            "3  74  35  40    26.491096  80.158363  6.980401  242.864034  rice\n",
            "4  78  42  42    20.130175  81.604873  7.628473  262.717340  rice\n"
          ]
        }
      ],
      "source": [
        "import pandas as pd\n",
        "df = pd.read_csv(\"Crop_recommendation.csv\")\n",
        "print(df.head())"
      ]
    },
    {
      "cell_type": "code",
      "source": [
        "from sklearn.model_selection import train_test_split\n",
        "x = df[['N','P','K','temperature','humidity']]\n",
        "y = df['label']"
      ],
      "metadata": {
        "id": "thclCHby48rq"
      },
      "execution_count": 2,
      "outputs": []
    },
    {
      "cell_type": "code",
      "source": [
        "x_train , x_test , y_train , y_test = train_test_split(x,y,test_size=0.2)"
      ],
      "metadata": {
        "id": "avMVBiu95Ala"
      },
      "execution_count": 3,
      "outputs": []
    },
    {
      "cell_type": "code",
      "source": [
        "from sklearn.linear_model import LogisticRegression\n",
        "model = LogisticRegression()\n",
        "from sklearn.preprocessing import LabelEncoder\n",
        "label_encoder = LabelEncoder()\n",
        "y_train_encoded = label_encoder.fit_transform(y_train)\n",
        "y_test_encoded = label_encoder.fit_transform(y_test)\n",
        "\n",
        "model.fit(x_train,y_train_encoded)"
      ],
      "metadata": {
        "colab": {
          "base_uri": "https://localhost:8080/",
          "height": 210
        },
        "id": "-2kQog7B5Qga",
        "outputId": "6c4becba-c08a-43fb-d325-6f444933d57d"
      },
      "execution_count": 9,
      "outputs": [
        {
          "output_type": "stream",
          "name": "stderr",
          "text": [
            "/usr/local/lib/python3.10/dist-packages/sklearn/linear_model/_logistic.py:458: ConvergenceWarning: lbfgs failed to converge (status=1):\n",
            "STOP: TOTAL NO. of ITERATIONS REACHED LIMIT.\n",
            "\n",
            "Increase the number of iterations (max_iter) or scale the data as shown in:\n",
            "    https://scikit-learn.org/stable/modules/preprocessing.html\n",
            "Please also refer to the documentation for alternative solver options:\n",
            "    https://scikit-learn.org/stable/modules/linear_model.html#logistic-regression\n",
            "  n_iter_i = _check_optimize_result(\n"
          ]
        },
        {
          "output_type": "execute_result",
          "data": {
            "text/plain": [
              "LogisticRegression()"
            ],
            "text/html": [
              "<style>#sk-container-id-2 {color: black;background-color: white;}#sk-container-id-2 pre{padding: 0;}#sk-container-id-2 div.sk-toggleable {background-color: white;}#sk-container-id-2 label.sk-toggleable__label {cursor: pointer;display: block;width: 100%;margin-bottom: 0;padding: 0.3em;box-sizing: border-box;text-align: center;}#sk-container-id-2 label.sk-toggleable__label-arrow:before {content: \"▸\";float: left;margin-right: 0.25em;color: #696969;}#sk-container-id-2 label.sk-toggleable__label-arrow:hover:before {color: black;}#sk-container-id-2 div.sk-estimator:hover label.sk-toggleable__label-arrow:before {color: black;}#sk-container-id-2 div.sk-toggleable__content {max-height: 0;max-width: 0;overflow: hidden;text-align: left;background-color: #f0f8ff;}#sk-container-id-2 div.sk-toggleable__content pre {margin: 0.2em;color: black;border-radius: 0.25em;background-color: #f0f8ff;}#sk-container-id-2 input.sk-toggleable__control:checked~div.sk-toggleable__content {max-height: 200px;max-width: 100%;overflow: auto;}#sk-container-id-2 input.sk-toggleable__control:checked~label.sk-toggleable__label-arrow:before {content: \"▾\";}#sk-container-id-2 div.sk-estimator input.sk-toggleable__control:checked~label.sk-toggleable__label {background-color: #d4ebff;}#sk-container-id-2 div.sk-label input.sk-toggleable__control:checked~label.sk-toggleable__label {background-color: #d4ebff;}#sk-container-id-2 input.sk-hidden--visually {border: 0;clip: rect(1px 1px 1px 1px);clip: rect(1px, 1px, 1px, 1px);height: 1px;margin: -1px;overflow: hidden;padding: 0;position: absolute;width: 1px;}#sk-container-id-2 div.sk-estimator {font-family: monospace;background-color: #f0f8ff;border: 1px dotted black;border-radius: 0.25em;box-sizing: border-box;margin-bottom: 0.5em;}#sk-container-id-2 div.sk-estimator:hover {background-color: #d4ebff;}#sk-container-id-2 div.sk-parallel-item::after {content: \"\";width: 100%;border-bottom: 1px solid gray;flex-grow: 1;}#sk-container-id-2 div.sk-label:hover label.sk-toggleable__label {background-color: #d4ebff;}#sk-container-id-2 div.sk-serial::before {content: \"\";position: absolute;border-left: 1px solid gray;box-sizing: border-box;top: 0;bottom: 0;left: 50%;z-index: 0;}#sk-container-id-2 div.sk-serial {display: flex;flex-direction: column;align-items: center;background-color: white;padding-right: 0.2em;padding-left: 0.2em;position: relative;}#sk-container-id-2 div.sk-item {position: relative;z-index: 1;}#sk-container-id-2 div.sk-parallel {display: flex;align-items: stretch;justify-content: center;background-color: white;position: relative;}#sk-container-id-2 div.sk-item::before, #sk-container-id-2 div.sk-parallel-item::before {content: \"\";position: absolute;border-left: 1px solid gray;box-sizing: border-box;top: 0;bottom: 0;left: 50%;z-index: -1;}#sk-container-id-2 div.sk-parallel-item {display: flex;flex-direction: column;z-index: 1;position: relative;background-color: white;}#sk-container-id-2 div.sk-parallel-item:first-child::after {align-self: flex-end;width: 50%;}#sk-container-id-2 div.sk-parallel-item:last-child::after {align-self: flex-start;width: 50%;}#sk-container-id-2 div.sk-parallel-item:only-child::after {width: 0;}#sk-container-id-2 div.sk-dashed-wrapped {border: 1px dashed gray;margin: 0 0.4em 0.5em 0.4em;box-sizing: border-box;padding-bottom: 0.4em;background-color: white;}#sk-container-id-2 div.sk-label label {font-family: monospace;font-weight: bold;display: inline-block;line-height: 1.2em;}#sk-container-id-2 div.sk-label-container {text-align: center;}#sk-container-id-2 div.sk-container {/* jupyter's `normalize.less` sets `[hidden] { display: none; }` but bootstrap.min.css set `[hidden] { display: none !important; }` so we also need the `!important` here to be able to override the default hidden behavior on the sphinx rendered scikit-learn.org. See: https://github.com/scikit-learn/scikit-learn/issues/21755 */display: inline-block !important;position: relative;}#sk-container-id-2 div.sk-text-repr-fallback {display: none;}</style><div id=\"sk-container-id-2\" class=\"sk-top-container\"><div class=\"sk-text-repr-fallback\"><pre>LogisticRegression()</pre><b>In a Jupyter environment, please rerun this cell to show the HTML representation or trust the notebook. <br />On GitHub, the HTML representation is unable to render, please try loading this page with nbviewer.org.</b></div><div class=\"sk-container\" hidden><div class=\"sk-item\"><div class=\"sk-estimator sk-toggleable\"><input class=\"sk-toggleable__control sk-hidden--visually\" id=\"sk-estimator-id-2\" type=\"checkbox\" checked><label for=\"sk-estimator-id-2\" class=\"sk-toggleable__label sk-toggleable__label-arrow\">LogisticRegression</label><div class=\"sk-toggleable__content\"><pre>LogisticRegression()</pre></div></div></div></div></div>"
            ]
          },
          "metadata": {},
          "execution_count": 9
        }
      ]
    },
    {
      "cell_type": "code",
      "source": [
        "model.predict(x_test)"
      ],
      "metadata": {
        "colab": {
          "base_uri": "https://localhost:8080/"
        },
        "id": "cUQYFj2B50ZA",
        "outputId": "d7bccaf0-05e4-4d62-e1e9-3f840248b873"
      },
      "execution_count": 7,
      "outputs": [
        {
          "output_type": "execute_result",
          "data": {
            "text/plain": [
              "array([19,  2,  0, 12,  6, 19, 20,  4, 12,  0, 15,  7,  8,  8,  2, 21,  4,\n",
              "       11, 21,  3, 13, 18, 15, 14,  3,  9,  3,  4, 15,  5,  1, 21,  7,  0,\n",
              "       10,  1, 21, 15, 14, 10,  8,  5,  6, 10, 11, 20,  7, 17,  4, 21,  8,\n",
              "        6, 10, 21, 18, 16, 17,  8, 19, 18, 18, 14, 13,  0, 14, 16,  4, 21,\n",
              "       18,  7, 13, 19, 20,  3, 19, 18, 16, 11, 19,  6, 18, 18, 10, 14,  5,\n",
              "        6, 15,  8,  4, 14, 16, 14, 11, 17,  7,  9,  3,  1,  2, 21, 11,  6,\n",
              "        7,  8,  1,  6,  8, 20, 18,  5, 13,  1, 13, 14, 20, 17,  6, 10,  9,\n",
              "       17,  2, 14, 18, 10,  5,  0,  7, 18, 11, 21,  7, 21,  5, 21, 19,  5,\n",
              "        8, 17, 12,  2,  7,  3, 10,  4,  5,  0, 11, 18,  9, 12,  4,  1, 10,\n",
              "        1,  3,  1, 21, 21, 15, 19, 16, 18, 20, 18, 20,  8,  5, 13,  6, 12,\n",
              "       21, 13, 20,  8, 21, 14, 15,  1,  1, 16,  0, 19,  7,  2,  7,  0,  6,\n",
              "        3,  4, 15,  5,  3, 15, 21, 12, 21,  7, 15, 11, 18,  6, 19,  2, 16,\n",
              "       19, 17, 19, 15, 14, 16,  8,  3,  9, 15,  9, 19,  1, 14,  6,  6,  1,\n",
              "        0,  4,  6, 15,  5,  4, 17, 18,  6, 21,  4,  9, 21,  5, 12, 20,  8,\n",
              "        1,  8,  4, 13, 16, 12, 13, 10, 11,  9, 12,  7,  1,  9,  7, 19, 12,\n",
              "       17, 20, 15,  3,  6,  6,  2, 15,  0,  9, 12,  0, 12,  2, 13,  8, 14,\n",
              "       15, 18,  2,  3,  3, 21,  1,  1, 19, 21, 17, 18, 19,  7, 10, 16, 15,\n",
              "        9,  1,  5, 21,  5, 17,  3, 11, 11, 10, 19, 21, 10,  7, 16,  5, 19,\n",
              "       12,  0,  8,  8,  5, 20, 16,  4, 14,  9,  6, 14,  3,  9, 17,  2,  6,\n",
              "       18,  9,  2, 12, 12, 18, 17,  3, 20,  9, 21, 20,  5, 21, 21,  1,  3,\n",
              "       16,  0,  0,  9, 19,  0, 10, 14,  2, 20, 13,  4, 17, 16, 13,  6,  7,\n",
              "       11,  0, 16, 10, 12,  8, 13,  2, 13, 10,  2, 16, 15,  9, 16, 16,  4,\n",
              "       18, 17,  6,  9,  4,  4,  5,  5, 10, 21,  0,  0,  0, 19,  4,  4,  2,\n",
              "        4, 18,  5, 20,  8, 21, 20,  0,  0, 10,  4, 14,  1, 13,  5,  8,  1,\n",
              "        2, 17,  0, 20, 20, 18, 10,  1, 14,  2, 13, 21, 19,  9, 14, 16, 13,\n",
              "       20,  1,  0, 18,  3, 13,  6, 15, 14, 19, 19, 19,  7,  2,  2])"
            ]
          },
          "metadata": {},
          "execution_count": 7
        }
      ]
    },
    {
      "cell_type": "code",
      "source": [
        "model.score(x_test,y_test_encoded)"
      ],
      "metadata": {
        "colab": {
          "base_uri": "https://localhost:8080/"
        },
        "id": "r4W_bzav55c-",
        "outputId": "62fbd7ad-6f84-4c69-fe8a-fd0355885c1a"
      },
      "execution_count": 10,
      "outputs": [
        {
          "output_type": "execute_result",
          "data": {
            "text/plain": [
              "0.8545454545454545"
            ]
          },
          "metadata": {},
          "execution_count": 10
        }
      ]
    }
  ]
}