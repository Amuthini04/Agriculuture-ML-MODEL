{
  "nbformat": 4,
  "nbformat_minor": 0,
  "metadata": {
    "colab": {
      "provenance": []
    },
    "kernelspec": {
      "name": "python3",
      "display_name": "Python 3"
    },
    "language_info": {
      "name": "python"
    }
  },
  "cells": [
    {
      "cell_type": "code",
      "execution_count": 16,
      "metadata": {
        "colab": {
          "base_uri": "https://localhost:8080/"
        },
        "id": "LHyVB9M-Ck55",
        "outputId": "4eb4a46e-ba4b-491a-acce-17e8f02d1aab"
      },
      "outputs": [
        {
          "output_type": "stream",
          "name": "stdout",
          "text": [
            "90 42 43 20.87974371 82.00274423\n",
            "['rice']\n",
            "Predicted Crop Name: rice\n",
            "Irrigation requirement (in cubic kilometers, km³): 271.4\n",
            "Primary supply (in cubic kilometers, km³): 360.1\n",
            "Agricultural Expansion Index (in million hectares, 10^6 ha): 64.0\n",
            "Crop Intensity: 1.6\n"
          ]
        }
      ],
      "source": [
        "import numpy as np\n",
        "import sqlite3\n",
        "import pickle\n",
        "\n",
        "conn = sqlite3.connect('backup.db')\n",
        "c = conn.cursor()\n",
        "\n",
        "\n",
        "insert_queries = [\n",
        "    \"INSERT INTO Irrigation8 VALUES('rice', 271.4, 360.1, 64, 1.6);\",\n",
        "    \"INSERT INTO Irrigation8 VALUES('wheat', 153.1, 44.3, 59.3, 1.1);\",\n",
        "    \"INSERT INTO Irrigation8 VALUES('maize', 66, 48.7, 29.9, 1);\",\n",
        "    \"INSERT INTO Irrigation8 VALUES('Others annual', 51.8, 19.8, 16.7, 1.2);\",\n",
        "    \"INSERT INTO Irrigation8 VALUES('cotton', 73.3, 21.2, 16.3, 1);\",\n",
        "    \"INSERT INTO Irrigation8 VALUES('Others perennial', 80, 48.5, 12.9, 1);\",\n",
        "    \"INSERT INTO Irrigation8 VALUES('Fodder grasses', 71.8, 14.5, 11.7, 1);\",\n",
        "    \"INSERT INTO Irrigation8 VALUES('sugar cane', 71.7, 50.9, 10.2, 1);\",\n",
        "    \"INSERT INTO Irrigation8 VALUES('soybean', 16.6, 15.3, 6, 1);\",\n",
        "    \"INSERT INTO Irrigation8 VALUES('pulses', 18, 2.8, 5.5, 1);\",\n",
        "    \"INSERT INTO Irrigation8 VALUES('barley', 7.3, 4.1, 4.6, 1);\",\n",
        "    \"INSERT INTO Irrigation8 VALUES('potato', 12.4, 5.8, 3.7, 1);\",\n",
        "    \"INSERT INTO Irrigation8 VALUES('groundnuts', 7.5, 9.6, 3.7, 1);\",\n",
        "    \"INSERT INTO Irrigation8 VALUES('citrus', 15.1, 12.2, 3.6, 1);\",\n",
        "    \"INSERT INTO Irrigation8 VALUES('rape seed', 6.7, 0.5, 3.4, 1);\",\n",
        "    \"INSERT INTO Irrigation8 VALUES('sorghum', 8, 3.4, 3.4, 1);\",\n",
        "    \"INSERT INTO Irrigation8 VALUES('millet', 3.5, 1.9, 1.7, 1);\",\n",
        "    \"INSERT INTO Irrigation8 VALUES('grapes', 7.4, 4, 1.7, 1);\",\n",
        "    \"INSERT INTO Irrigation8 VALUES('sugar beets', 6.1, 0.89, 1.6, 1);\",\n",
        "    \"INSERT INTO Irrigation8 VALUES('sunflower', 3.6, 1.8, 1.3, 1);\",\n",
        "    \"INSERT INTO Irrigation8 VALUES('date palm', 8.4, 0.14, 0.7, 1);\",\n",
        "    \"INSERT INTO Irrigation8 VALUES('rye', 0.74, 0.68, 0.4, 1);\",\n",
        "    \"INSERT INTO Irrigation8 VALUES('coffee', 0.67, 0.83, 0.2, 1);\",\n",
        "    \"INSERT INTO Irrigation8 VALUES('cocoa', 0.01, 0.06, 0.01, 1);\",\n",
        "    \"INSERT INTO Irrigation8 VALUES('cassava', 0.02, 0.03, 0.01, 1);\",\n",
        "    \"INSERT INTO Irrigation8 VALUES('oil palm', 0.04, 0.11, 0.01, 1);\",\n",
        "    \"INSERT INTO Irrigation8 VALUES('banana', 170.1, 45.3, 50.3, 1.4);\",\n",
        "    \"INSERT INTO Irrigation8 VALUES('mango', 170.1, 45.3, 50.3, 1.4);\"\n",
        "]\n",
        "for query in insert_queries:\n",
        "    c.execute(query)\n",
        "\n",
        "with open('Crop-prediction.pk1', 'rb') as f:\n",
        "    x = pickle.load(f)\n",
        "\n",
        "a = [float(i)for i in input().split(\" \")]\n",
        "features = np.array([a])\n",
        "prediction = x.predict(features)\n",
        "print(prediction)\n",
        "\n",
        "\n",
        "crop_name = prediction\n",
        "c.execute(\"SELECT * FROM Irrigation8 WHERE Crop=?\", (crop_name[0],))\n",
        "\n",
        "row = c.fetchone()\n",
        "\n",
        "if row:\n",
        "    print(\"Predicted Crop Name: \" + row[0] + \"\\nIrrigation requirement (in cubic kilometers, km³): \" + str(row[1]) + \"\\nPrimary supply (in cubic kilometers, km³): \" + str(row[2]) + \"\\nAgricultural Expansion Index (in million hectares, 10^6 ha): \" + str(row[3]) + \"\\nCrop Intensity: \" + str(row[4]))\n",
        "else:\n",
        "    print(f\"No data found for crop: {crop_name}\")\n"
      ]
    }
  ]
}