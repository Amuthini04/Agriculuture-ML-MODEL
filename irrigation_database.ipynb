{
  "cells": [
    {
      "cell_type": "code",
      "source": [
        "import sqlite3"
      ],
      "metadata": {
        "id": "K6NEqC3cZxpY"
      },
      "execution_count": 58,
      "outputs": []
    },
    {
      "cell_type": "code",
      "source": [
        "conn = sqlite3.connect('backup.db')\n",
        "c = conn.cursor()"
      ],
      "metadata": {
        "id": "gHgKjqWCZ3Q-"
      },
      "execution_count": 59,
      "outputs": []
    },
    {
      "cell_type": "code",
      "source": [
        "c.execute('''CREATE TABLE Irrigation5(\n",
        "Crop TEXT,\n",
        "I REAL,\n",
        "PS REAL,\n",
        "AEI REAL,\n",
        "CI REAL);''')"
      ],
      "metadata": {
        "colab": {
          "base_uri": "https://localhost:8080/"
        },
        "id": "sCm3vOi0aOOY",
        "outputId": "be95b3f7-a277-476a-c5d1-c08cac15a62a"
      },
      "execution_count": 60,
      "outputs": [
        {
          "output_type": "execute_result",
          "data": {
            "text/plain": [
              "<sqlite3.Cursor at 0x7e1d0082fc40>"
            ]
          },
          "metadata": {},
          "execution_count": 60
        }
      ]
    },
    {
      "cell_type": "code",
      "source": [
        "insert_queries = [\n",
        "    \"INSERT INTO Irrigation5 VALUES('Rice', 271.4, 360.1, 64, 1.6);\",\n",
        "    \"INSERT INTO Irrigation5 VALUES('Wheat', 153.1, 44.3, 59.3, 1.1);\",\n",
        "    \"INSERT INTO Irrigation5 VALUES('Maize', 66, 48.7, 29.9, 1);\",\n",
        "    \"INSERT INTO Irrigation5 VALUES('Others annual', 51.8, 19.8, 16.7, 1.2);\",\n",
        "    \"INSERT INTO Irrigation5 VALUES('Cotton', 73.3, 21.2, 16.3, 1);\",\n",
        "    \"INSERT INTO Irrigation5 VALUES('Others perennial', 80, 48.5, 12.9, 1);\",\n",
        "    \"INSERT INTO Irrigation5 VALUES('Fodder grasses', 71.8, 14.5, 11.7, 1);\",\n",
        "    \"INSERT INTO Irrigation5 VALUES('Sugar cane', 71.7, 50.9, 10.2, 1);\",\n",
        "    \"INSERT INTO Irrigation5 VALUES('Soybean', 16.6, 15.3, 6, 1);\",\n",
        "    \"INSERT INTO Irrigation5 VALUES('Pulses', 18, 2.8, 5.5, 1);\",\n",
        "    \"INSERT INTO Irrigation5 VALUES('Barley', 7.3, 4.1, 4.6, 1);\",\n",
        "    \"INSERT INTO Irrigation5 VALUES('Potato', 12.4, 5.8, 3.7, 1);\",\n",
        "    \"INSERT INTO Irrigation5 VALUES('Groundnuts', 7.5, 9.6, 3.7, 1);\",\n",
        "    \"INSERT INTO Irrigation5 VALUES('Citrus', 15.1, 12.2, 3.6, 1);\",\n",
        "    \"INSERT INTO Irrigation5 VALUES('Rape seed', 6.7, 0.5, 3.4, 1);\",\n",
        "    \"INSERT INTO Irrigation5 VALUES('Sorghum', 8, 3.4, 3.4, 1);\",\n",
        "    \"INSERT INTO Irrigation5 VALUES('Millet', 3.5, 1.9, 1.7, 1);\",\n",
        "    \"INSERT INTO Irrigation5 VALUES('Grapes', 7.4, 4, 1.7, 1);\",\n",
        "    \"INSERT INTO Irrigation5 VALUES('Sugar beets', 6.1, 0.89, 1.6, 1);\",\n",
        "    \"INSERT INTO Irrigation5 VALUES('Sunflower', 3.6, 1.8, 1.3, 1);\",\n",
        "    \"INSERT INTO Irrigation5 VALUES('Date palm', 8.4, 0.14, 0.7, 1);\",\n",
        "    \"INSERT INTO Irrigation5 VALUES('Rye', 0.74, 0.68, 0.4, 1);\",\n",
        "    \"INSERT INTO Irrigation5 VALUES('Coffee', 0.67, 0.83, 0.2, 1);\",\n",
        "    \"INSERT INTO Irrigation5 VALUES('Cocoa', 0.01, 0.06, 0.01, 1);\",\n",
        "    \"INSERT INTO Irrigation5 VALUES('Cassava', 0.02, 0.03, 0.01, 1);\",\n",
        "    \"INSERT INTO Irrigation5 VALUES('Oil palm', 0.04, 0.11, 0.01, 1);\"\n",
        "]"
      ],
      "metadata": {
        "id": "IHUoyYFUajxo"
      },
      "execution_count": 61,
      "outputs": []
    },
    {
      "cell_type": "code",
      "source": [
        "for query in insert_queries:\n",
        "    c.execute(query)"
      ],
      "metadata": {
        "id": "uf1aPvtFbA-J"
      },
      "execution_count": 62,
      "outputs": []
    },
    {
      "cell_type": "code",
      "source": [
        "conn.commit()"
      ],
      "metadata": {
        "id": "FkPsT0rRbGzu"
      },
      "execution_count": 63,
      "outputs": []
    },
    {
      "cell_type": "code",
      "source": [
        "c.execute(\"SELECT * FROM Irrigation5\")"
      ],
      "metadata": {
        "colab": {
          "base_uri": "https://localhost:8080/"
        },
        "id": "ni-PTRutbMJ7",
        "outputId": "7aa41254-f3af-426b-bb09-d8d750a35552"
      },
      "execution_count": 64,
      "outputs": [
        {
          "output_type": "execute_result",
          "data": {
            "text/plain": [
              "<sqlite3.Cursor at 0x7e1d0082fc40>"
            ]
          },
          "metadata": {},
          "execution_count": 64
        }
      ]
    },
    {
      "cell_type": "code",
      "source": [
        "rows = c.fetchall()"
      ],
      "metadata": {
        "id": "qHZi9RuDbPvE"
      },
      "execution_count": 65,
      "outputs": []
    },
    {
      "cell_type": "code",
      "source": [
        "for row in rows:\n",
        "    print(row)"
      ],
      "metadata": {
        "colab": {
          "base_uri": "https://localhost:8080/"
        },
        "id": "On3xqn9gbTZs",
        "outputId": "8642ad99-6b7c-4e09-880f-3602cfb17273"
      },
      "execution_count": 66,
      "outputs": [
        {
          "output_type": "stream",
          "name": "stdout",
          "text": [
            "('Rice', 271.4, 360.1, 64.0, 1.6)\n",
            "('Wheat', 153.1, 44.3, 59.3, 1.1)\n",
            "('Maize', 66.0, 48.7, 29.9, 1.0)\n",
            "('Others annual', 51.8, 19.8, 16.7, 1.2)\n",
            "('Cotton', 73.3, 21.2, 16.3, 1.0)\n",
            "('Others perennial', 80.0, 48.5, 12.9, 1.0)\n",
            "('Fodder grasses', 71.8, 14.5, 11.7, 1.0)\n",
            "('Sugar cane', 71.7, 50.9, 10.2, 1.0)\n",
            "('Soybean', 16.6, 15.3, 6.0, 1.0)\n",
            "('Pulses', 18.0, 2.8, 5.5, 1.0)\n",
            "('Barley', 7.3, 4.1, 4.6, 1.0)\n",
            "('Potato', 12.4, 5.8, 3.7, 1.0)\n",
            "('Groundnuts', 7.5, 9.6, 3.7, 1.0)\n",
            "('Citrus', 15.1, 12.2, 3.6, 1.0)\n",
            "('Rape seed', 6.7, 0.5, 3.4, 1.0)\n",
            "('Sorghum', 8.0, 3.4, 3.4, 1.0)\n",
            "('Millet', 3.5, 1.9, 1.7, 1.0)\n",
            "('Grapes', 7.4, 4.0, 1.7, 1.0)\n",
            "('Sugar beets', 6.1, 0.89, 1.6, 1.0)\n",
            "('Sunflower', 3.6, 1.8, 1.3, 1.0)\n",
            "('Date palm', 8.4, 0.14, 0.7, 1.0)\n",
            "('Rye', 0.74, 0.68, 0.4, 1.0)\n",
            "('Coffee', 0.67, 0.83, 0.2, 1.0)\n",
            "('Cocoa', 0.01, 0.06, 0.01, 1.0)\n",
            "('Cassava', 0.02, 0.03, 0.01, 1.0)\n",
            "('Oil palm', 0.04, 0.11, 0.01, 1.0)\n"
          ]
        }
      ]
    },
    {
      "cell_type": "code",
      "source": [
        "import pickle\n",
        "with open('Crop-prediction.pk1', 'rb') as f:\n",
        "    x = pickle.load(f)\n",
        "print(x)"
      ],
      "metadata": {
        "colab": {
          "base_uri": "https://localhost:8080/"
        },
        "id": "rWThigiAbVex",
        "outputId": "cffca26f-8566-478a-a300-60238568e5ef"
      },
      "execution_count": 68,
      "outputs": [
        {
          "output_type": "stream",
          "name": "stdout",
          "text": [
            "LGBMClassifier()\n"
          ]
        }
      ]
    },
    {
      "cell_type": "code",
      "source": [
        "import numpy as np\n",
        "\n",
        "features = np.array([[90,42,43,20.8,82.0]])\n",
        "prediction = x.predict(features)\n",
        "print(\"Prediction: {}\".format(prediction))"
      ],
      "metadata": {
        "colab": {
          "base_uri": "https://localhost:8080/"
        },
        "id": "FHBAPhY0dSsF",
        "outputId": "52823773-4e86-48be-b0c7-dc61d6cbe8b6"
      },
      "execution_count": 75,
      "outputs": [
        {
          "output_type": "stream",
          "name": "stdout",
          "text": [
            "Prediction: ['rice']\n"
          ]
        }
      ]
    },
    {
      "cell_type": "code",
      "source": [
        "crop_name = prediction\n",
        "c.execute(\"SELECT * FROM Irrigation5 WHERE Crop=?\", (crop_name,))"
      ],
      "metadata": {
        "colab": {
          "base_uri": "https://localhost:8080/"
        },
        "id": "saQMyEIndruW",
        "outputId": "215f0c22-1f88-4e3d-ccdf-d7922da4fd38"
      },
      "execution_count": 76,
      "outputs": [
        {
          "output_type": "execute_result",
          "data": {
            "text/plain": [
              "<sqlite3.Cursor at 0x7e1d0082fc40>"
            ]
          },
          "metadata": {},
          "execution_count": 76
        }
      ]
    },
    {
      "cell_type": "code",
      "source": [
        "row = c.fetchone()"
      ],
      "metadata": {
        "id": "u8CMWHYDed7W"
      },
      "execution_count": 77,
      "outputs": []
    },
    {
      "cell_type": "code",
      "source": [
        "if row:\n",
        "    print(row)\n",
        "else:\n",
        "    print(f\"No data found for crop: {crop_name}\")"
      ],
      "metadata": {
        "colab": {
          "base_uri": "https://localhost:8080/"
        },
        "id": "zOvPPqLCe0B7",
        "outputId": "4d354712-7cbe-47a4-da40-cf604adbf83d"
      },
      "execution_count": 79,
      "outputs": [
        {
          "output_type": "stream",
          "name": "stdout",
          "text": [
            "No data found for crop: ['rice']\n"
          ]
        }
      ]
    }
  ],
  "metadata": {
    "colab": {
      "provenance": []
    },
    "kernelspec": {
      "display_name": "Python 3",
      "name": "python3"
    },
    "language_info": {
      "name": "python"
    }
  },
  "nbformat": 4,
  "nbformat_minor": 0
}